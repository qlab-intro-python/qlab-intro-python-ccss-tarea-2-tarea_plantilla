{
 "cells": [
  {
   "cell_type": "markdown",
   "metadata": {},
   "source": [
    "# **Tarea Nº 2**"
   ]
  },
  {
   "cell_type": "markdown",
   "metadata": {},
   "source": [
    "Curso:          Fundamentos de Programación en Python para las CCSS y la Gestión Pública\n",
    "\n",
    "Profesor:       Víctor Fuentes Campos     "
   ]
  },
  {
   "cell_type": "markdown",
   "metadata": {},
   "source": [
    "- Fecha y hora de entrega: Lunes 9 de diciembre, 11:59pm\n",
    "- Agregue los nombres de las personas con las que discutió esta tarea: ____ Armando Paredes ______\n",
    "- Envíe su tarea haciendo el `push` de su código a su repo en GitHub Classroom "
   ]
  },
  {
   "cell_type": "markdown",
   "metadata": {},
   "source": [
    "## **Vuelos, aerolíneas y aeropuertos al detalle**"
   ]
  },
  {
   "cell_type": "markdown",
   "metadata": {},
   "source": [
    "1. Importa el conjunto de datos `flights.csv`. Encuentra todos los vuelos que:\n",
    "\n",
    "    a. Tuvieron un retraso de llegada de tres horas o más.\n",
    "\n",
    "    b. Volaron a Houston (IAH o HOU).\n",
    "\n",
    "    c. Fueron operados por United, American o Southwest.\n",
    "\n",
    "    d. Partieron en primavera (marzo, abril y junio)."
   ]
  },
  {
   "cell_type": "code",
   "execution_count": 61,
   "metadata": {},
   "outputs": [],
   "source": [
    "# Solución\n",
    "import pandas as pd\n",
    "file_root=\"flights.csv\"\n",
    "df_flights=pd.read_csv(file_root)"
   ]
  },
  {
   "cell_type": "code",
   "execution_count": 62,
   "metadata": {},
   "outputs": [
    {
     "data": {
      "text/html": [
       "<div>\n",
       "<style scoped>\n",
       "    .dataframe tbody tr th:only-of-type {\n",
       "        vertical-align: middle;\n",
       "    }\n",
       "\n",
       "    .dataframe tbody tr th {\n",
       "        vertical-align: top;\n",
       "    }\n",
       "\n",
       "    .dataframe thead th {\n",
       "        text-align: right;\n",
       "    }\n",
       "</style>\n",
       "<table border=\"1\" class=\"dataframe\">\n",
       "  <thead>\n",
       "    <tr style=\"text-align: right;\">\n",
       "      <th></th>\n",
       "      <th>Unnamed: 0</th>\n",
       "      <th>year</th>\n",
       "      <th>month</th>\n",
       "      <th>day</th>\n",
       "      <th>dep_time</th>\n",
       "      <th>sched_dep_time</th>\n",
       "      <th>dep_delay</th>\n",
       "      <th>arr_time</th>\n",
       "      <th>sched_arr_time</th>\n",
       "      <th>arr_delay</th>\n",
       "      <th>carrier</th>\n",
       "      <th>flight</th>\n",
       "      <th>tailnum</th>\n",
       "      <th>origin</th>\n",
       "      <th>dest</th>\n",
       "      <th>air_time</th>\n",
       "      <th>distance</th>\n",
       "      <th>hour</th>\n",
       "      <th>minute</th>\n",
       "      <th>time_hour</th>\n",
       "    </tr>\n",
       "  </thead>\n",
       "  <tbody>\n",
       "    <tr>\n",
       "      <th>0</th>\n",
       "      <td>1</td>\n",
       "      <td>2013</td>\n",
       "      <td>1</td>\n",
       "      <td>1</td>\n",
       "      <td>517.0</td>\n",
       "      <td>515</td>\n",
       "      <td>2.0</td>\n",
       "      <td>830.0</td>\n",
       "      <td>819</td>\n",
       "      <td>11.0</td>\n",
       "      <td>UA</td>\n",
       "      <td>1545</td>\n",
       "      <td>N14228</td>\n",
       "      <td>EWR</td>\n",
       "      <td>IAH</td>\n",
       "      <td>227.0</td>\n",
       "      <td>1400</td>\n",
       "      <td>5</td>\n",
       "      <td>15</td>\n",
       "      <td>2013-01-01 05:00:00</td>\n",
       "    </tr>\n",
       "    <tr>\n",
       "      <th>1</th>\n",
       "      <td>2</td>\n",
       "      <td>2013</td>\n",
       "      <td>1</td>\n",
       "      <td>1</td>\n",
       "      <td>533.0</td>\n",
       "      <td>529</td>\n",
       "      <td>4.0</td>\n",
       "      <td>850.0</td>\n",
       "      <td>830</td>\n",
       "      <td>20.0</td>\n",
       "      <td>UA</td>\n",
       "      <td>1714</td>\n",
       "      <td>N24211</td>\n",
       "      <td>LGA</td>\n",
       "      <td>IAH</td>\n",
       "      <td>227.0</td>\n",
       "      <td>1416</td>\n",
       "      <td>5</td>\n",
       "      <td>29</td>\n",
       "      <td>2013-01-01 05:00:00</td>\n",
       "    </tr>\n",
       "    <tr>\n",
       "      <th>2</th>\n",
       "      <td>3</td>\n",
       "      <td>2013</td>\n",
       "      <td>1</td>\n",
       "      <td>1</td>\n",
       "      <td>542.0</td>\n",
       "      <td>540</td>\n",
       "      <td>2.0</td>\n",
       "      <td>923.0</td>\n",
       "      <td>850</td>\n",
       "      <td>33.0</td>\n",
       "      <td>AA</td>\n",
       "      <td>1141</td>\n",
       "      <td>N619AA</td>\n",
       "      <td>JFK</td>\n",
       "      <td>MIA</td>\n",
       "      <td>160.0</td>\n",
       "      <td>1089</td>\n",
       "      <td>5</td>\n",
       "      <td>40</td>\n",
       "      <td>2013-01-01 05:00:00</td>\n",
       "    </tr>\n",
       "    <tr>\n",
       "      <th>3</th>\n",
       "      <td>4</td>\n",
       "      <td>2013</td>\n",
       "      <td>1</td>\n",
       "      <td>1</td>\n",
       "      <td>544.0</td>\n",
       "      <td>545</td>\n",
       "      <td>-1.0</td>\n",
       "      <td>1004.0</td>\n",
       "      <td>1022</td>\n",
       "      <td>-18.0</td>\n",
       "      <td>B6</td>\n",
       "      <td>725</td>\n",
       "      <td>N804JB</td>\n",
       "      <td>JFK</td>\n",
       "      <td>BQN</td>\n",
       "      <td>183.0</td>\n",
       "      <td>1576</td>\n",
       "      <td>5</td>\n",
       "      <td>45</td>\n",
       "      <td>2013-01-01 05:00:00</td>\n",
       "    </tr>\n",
       "    <tr>\n",
       "      <th>4</th>\n",
       "      <td>5</td>\n",
       "      <td>2013</td>\n",
       "      <td>1</td>\n",
       "      <td>1</td>\n",
       "      <td>554.0</td>\n",
       "      <td>600</td>\n",
       "      <td>-6.0</td>\n",
       "      <td>812.0</td>\n",
       "      <td>837</td>\n",
       "      <td>-25.0</td>\n",
       "      <td>DL</td>\n",
       "      <td>461</td>\n",
       "      <td>N668DN</td>\n",
       "      <td>LGA</td>\n",
       "      <td>ATL</td>\n",
       "      <td>116.0</td>\n",
       "      <td>762</td>\n",
       "      <td>6</td>\n",
       "      <td>0</td>\n",
       "      <td>2013-01-01 06:00:00</td>\n",
       "    </tr>\n",
       "    <tr>\n",
       "      <th>...</th>\n",
       "      <td>...</td>\n",
       "      <td>...</td>\n",
       "      <td>...</td>\n",
       "      <td>...</td>\n",
       "      <td>...</td>\n",
       "      <td>...</td>\n",
       "      <td>...</td>\n",
       "      <td>...</td>\n",
       "      <td>...</td>\n",
       "      <td>...</td>\n",
       "      <td>...</td>\n",
       "      <td>...</td>\n",
       "      <td>...</td>\n",
       "      <td>...</td>\n",
       "      <td>...</td>\n",
       "      <td>...</td>\n",
       "      <td>...</td>\n",
       "      <td>...</td>\n",
       "      <td>...</td>\n",
       "      <td>...</td>\n",
       "    </tr>\n",
       "    <tr>\n",
       "      <th>336771</th>\n",
       "      <td>336772</td>\n",
       "      <td>2013</td>\n",
       "      <td>9</td>\n",
       "      <td>30</td>\n",
       "      <td>NaN</td>\n",
       "      <td>1455</td>\n",
       "      <td>NaN</td>\n",
       "      <td>NaN</td>\n",
       "      <td>1634</td>\n",
       "      <td>NaN</td>\n",
       "      <td>9E</td>\n",
       "      <td>3393</td>\n",
       "      <td>NaN</td>\n",
       "      <td>JFK</td>\n",
       "      <td>DCA</td>\n",
       "      <td>NaN</td>\n",
       "      <td>213</td>\n",
       "      <td>14</td>\n",
       "      <td>55</td>\n",
       "      <td>2013-09-30 14:00:00</td>\n",
       "    </tr>\n",
       "    <tr>\n",
       "      <th>336772</th>\n",
       "      <td>336773</td>\n",
       "      <td>2013</td>\n",
       "      <td>9</td>\n",
       "      <td>30</td>\n",
       "      <td>NaN</td>\n",
       "      <td>2200</td>\n",
       "      <td>NaN</td>\n",
       "      <td>NaN</td>\n",
       "      <td>2312</td>\n",
       "      <td>NaN</td>\n",
       "      <td>9E</td>\n",
       "      <td>3525</td>\n",
       "      <td>NaN</td>\n",
       "      <td>LGA</td>\n",
       "      <td>SYR</td>\n",
       "      <td>NaN</td>\n",
       "      <td>198</td>\n",
       "      <td>22</td>\n",
       "      <td>0</td>\n",
       "      <td>2013-09-30 22:00:00</td>\n",
       "    </tr>\n",
       "    <tr>\n",
       "      <th>336773</th>\n",
       "      <td>336774</td>\n",
       "      <td>2013</td>\n",
       "      <td>9</td>\n",
       "      <td>30</td>\n",
       "      <td>NaN</td>\n",
       "      <td>1210</td>\n",
       "      <td>NaN</td>\n",
       "      <td>NaN</td>\n",
       "      <td>1330</td>\n",
       "      <td>NaN</td>\n",
       "      <td>MQ</td>\n",
       "      <td>3461</td>\n",
       "      <td>N535MQ</td>\n",
       "      <td>LGA</td>\n",
       "      <td>BNA</td>\n",
       "      <td>NaN</td>\n",
       "      <td>764</td>\n",
       "      <td>12</td>\n",
       "      <td>10</td>\n",
       "      <td>2013-09-30 12:00:00</td>\n",
       "    </tr>\n",
       "    <tr>\n",
       "      <th>336774</th>\n",
       "      <td>336775</td>\n",
       "      <td>2013</td>\n",
       "      <td>9</td>\n",
       "      <td>30</td>\n",
       "      <td>NaN</td>\n",
       "      <td>1159</td>\n",
       "      <td>NaN</td>\n",
       "      <td>NaN</td>\n",
       "      <td>1344</td>\n",
       "      <td>NaN</td>\n",
       "      <td>MQ</td>\n",
       "      <td>3572</td>\n",
       "      <td>N511MQ</td>\n",
       "      <td>LGA</td>\n",
       "      <td>CLE</td>\n",
       "      <td>NaN</td>\n",
       "      <td>419</td>\n",
       "      <td>11</td>\n",
       "      <td>59</td>\n",
       "      <td>2013-09-30 11:00:00</td>\n",
       "    </tr>\n",
       "    <tr>\n",
       "      <th>336775</th>\n",
       "      <td>336776</td>\n",
       "      <td>2013</td>\n",
       "      <td>9</td>\n",
       "      <td>30</td>\n",
       "      <td>NaN</td>\n",
       "      <td>840</td>\n",
       "      <td>NaN</td>\n",
       "      <td>NaN</td>\n",
       "      <td>1020</td>\n",
       "      <td>NaN</td>\n",
       "      <td>MQ</td>\n",
       "      <td>3531</td>\n",
       "      <td>N839MQ</td>\n",
       "      <td>LGA</td>\n",
       "      <td>RDU</td>\n",
       "      <td>NaN</td>\n",
       "      <td>431</td>\n",
       "      <td>8</td>\n",
       "      <td>40</td>\n",
       "      <td>2013-09-30 08:00:00</td>\n",
       "    </tr>\n",
       "  </tbody>\n",
       "</table>\n",
       "<p>336776 rows × 20 columns</p>\n",
       "</div>"
      ],
      "text/plain": [
       "        Unnamed: 0  year  month  day  dep_time  sched_dep_time  dep_delay  \\\n",
       "0                1  2013      1    1     517.0             515        2.0   \n",
       "1                2  2013      1    1     533.0             529        4.0   \n",
       "2                3  2013      1    1     542.0             540        2.0   \n",
       "3                4  2013      1    1     544.0             545       -1.0   \n",
       "4                5  2013      1    1     554.0             600       -6.0   \n",
       "...            ...   ...    ...  ...       ...             ...        ...   \n",
       "336771      336772  2013      9   30       NaN            1455        NaN   \n",
       "336772      336773  2013      9   30       NaN            2200        NaN   \n",
       "336773      336774  2013      9   30       NaN            1210        NaN   \n",
       "336774      336775  2013      9   30       NaN            1159        NaN   \n",
       "336775      336776  2013      9   30       NaN             840        NaN   \n",
       "\n",
       "        arr_time  sched_arr_time  arr_delay carrier  flight tailnum origin  \\\n",
       "0          830.0             819       11.0      UA    1545  N14228    EWR   \n",
       "1          850.0             830       20.0      UA    1714  N24211    LGA   \n",
       "2          923.0             850       33.0      AA    1141  N619AA    JFK   \n",
       "3         1004.0            1022      -18.0      B6     725  N804JB    JFK   \n",
       "4          812.0             837      -25.0      DL     461  N668DN    LGA   \n",
       "...          ...             ...        ...     ...     ...     ...    ...   \n",
       "336771       NaN            1634        NaN      9E    3393     NaN    JFK   \n",
       "336772       NaN            2312        NaN      9E    3525     NaN    LGA   \n",
       "336773       NaN            1330        NaN      MQ    3461  N535MQ    LGA   \n",
       "336774       NaN            1344        NaN      MQ    3572  N511MQ    LGA   \n",
       "336775       NaN            1020        NaN      MQ    3531  N839MQ    LGA   \n",
       "\n",
       "       dest  air_time  distance  hour  minute            time_hour  \n",
       "0       IAH     227.0      1400     5      15  2013-01-01 05:00:00  \n",
       "1       IAH     227.0      1416     5      29  2013-01-01 05:00:00  \n",
       "2       MIA     160.0      1089     5      40  2013-01-01 05:00:00  \n",
       "3       BQN     183.0      1576     5      45  2013-01-01 05:00:00  \n",
       "4       ATL     116.0       762     6       0  2013-01-01 06:00:00  \n",
       "...     ...       ...       ...   ...     ...                  ...  \n",
       "336771  DCA       NaN       213    14      55  2013-09-30 14:00:00  \n",
       "336772  SYR       NaN       198    22       0  2013-09-30 22:00:00  \n",
       "336773  BNA       NaN       764    12      10  2013-09-30 12:00:00  \n",
       "336774  CLE       NaN       419    11      59  2013-09-30 11:00:00  \n",
       "336775  RDU       NaN       431     8      40  2013-09-30 08:00:00  \n",
       "\n",
       "[336776 rows x 20 columns]"
      ]
     },
     "execution_count": 62,
     "metadata": {},
     "output_type": "execute_result"
    }
   ],
   "source": [
    "df_flights"
   ]
  },
  {
   "cell_type": "code",
   "execution_count": null,
   "metadata": {},
   "outputs": [
    {
     "data": {
      "text/html": [
       "<div>\n",
       "<style scoped>\n",
       "    .dataframe tbody tr th:only-of-type {\n",
       "        vertical-align: middle;\n",
       "    }\n",
       "\n",
       "    .dataframe tbody tr th {\n",
       "        vertical-align: top;\n",
       "    }\n",
       "\n",
       "    .dataframe thead th {\n",
       "        text-align: right;\n",
       "    }\n",
       "</style>\n",
       "<table border=\"1\" class=\"dataframe\">\n",
       "  <thead>\n",
       "    <tr style=\"text-align: right;\">\n",
       "      <th></th>\n",
       "      <th>Unnamed: 0</th>\n",
       "      <th>year</th>\n",
       "      <th>month</th>\n",
       "      <th>day</th>\n",
       "      <th>dep_time</th>\n",
       "      <th>sched_dep_time</th>\n",
       "      <th>dep_delay</th>\n",
       "      <th>arr_time</th>\n",
       "      <th>sched_arr_time</th>\n",
       "      <th>arr_delay</th>\n",
       "      <th>carrier</th>\n",
       "      <th>flight</th>\n",
       "      <th>tailnum</th>\n",
       "      <th>origin</th>\n",
       "      <th>dest</th>\n",
       "      <th>air_time</th>\n",
       "      <th>distance</th>\n",
       "      <th>hour</th>\n",
       "      <th>minute</th>\n",
       "      <th>time_hour</th>\n",
       "    </tr>\n",
       "  </thead>\n",
       "  <tbody>\n",
       "    <tr>\n",
       "      <th>313</th>\n",
       "      <td>314</td>\n",
       "      <td>2013</td>\n",
       "      <td>1</td>\n",
       "      <td>1</td>\n",
       "      <td>1208.0</td>\n",
       "      <td>1158</td>\n",
       "      <td>10.0</td>\n",
       "      <td>1540.0</td>\n",
       "      <td>1502</td>\n",
       "      <td>38.0</td>\n",
       "      <td>B6</td>\n",
       "      <td>625</td>\n",
       "      <td>N239JB</td>\n",
       "      <td>JFK</td>\n",
       "      <td>HOU</td>\n",
       "      <td>253.0</td>\n",
       "      <td>1428</td>\n",
       "      <td>11</td>\n",
       "      <td>58</td>\n",
       "      <td>2013-01-01 11:00:00</td>\n",
       "    </tr>\n",
       "    <tr>\n",
       "      <th>357</th>\n",
       "      <td>358</td>\n",
       "      <td>2013</td>\n",
       "      <td>1</td>\n",
       "      <td>1</td>\n",
       "      <td>1306.0</td>\n",
       "      <td>1300</td>\n",
       "      <td>6.0</td>\n",
       "      <td>1622.0</td>\n",
       "      <td>1610</td>\n",
       "      <td>12.0</td>\n",
       "      <td>WN</td>\n",
       "      <td>2596</td>\n",
       "      <td>N773SA</td>\n",
       "      <td>EWR</td>\n",
       "      <td>HOU</td>\n",
       "      <td>239.0</td>\n",
       "      <td>1411</td>\n",
       "      <td>13</td>\n",
       "      <td>0</td>\n",
       "      <td>2013-01-01 13:00:00</td>\n",
       "    </tr>\n",
       "    <tr>\n",
       "      <th>584</th>\n",
       "      <td>585</td>\n",
       "      <td>2013</td>\n",
       "      <td>1</td>\n",
       "      <td>1</td>\n",
       "      <td>1708.0</td>\n",
       "      <td>1700</td>\n",
       "      <td>8.0</td>\n",
       "      <td>2037.0</td>\n",
       "      <td>2005</td>\n",
       "      <td>32.0</td>\n",
       "      <td>WN</td>\n",
       "      <td>1066</td>\n",
       "      <td>N778SW</td>\n",
       "      <td>EWR</td>\n",
       "      <td>HOU</td>\n",
       "      <td>245.0</td>\n",
       "      <td>1411</td>\n",
       "      <td>17</td>\n",
       "      <td>0</td>\n",
       "      <td>2013-01-01 17:00:00</td>\n",
       "    </tr>\n",
       "    <tr>\n",
       "      <th>770</th>\n",
       "      <td>771</td>\n",
       "      <td>2013</td>\n",
       "      <td>1</td>\n",
       "      <td>1</td>\n",
       "      <td>2030.0</td>\n",
       "      <td>2035</td>\n",
       "      <td>-5.0</td>\n",
       "      <td>2354.0</td>\n",
       "      <td>2342</td>\n",
       "      <td>12.0</td>\n",
       "      <td>B6</td>\n",
       "      <td>629</td>\n",
       "      <td>N192JB</td>\n",
       "      <td>JFK</td>\n",
       "      <td>HOU</td>\n",
       "      <td>245.0</td>\n",
       "      <td>1428</td>\n",
       "      <td>20</td>\n",
       "      <td>35</td>\n",
       "      <td>2013-01-01 20:00:00</td>\n",
       "    </tr>\n",
       "    <tr>\n",
       "      <th>963</th>\n",
       "      <td>964</td>\n",
       "      <td>2013</td>\n",
       "      <td>1</td>\n",
       "      <td>2</td>\n",
       "      <td>734.0</td>\n",
       "      <td>700</td>\n",
       "      <td>34.0</td>\n",
       "      <td>1045.0</td>\n",
       "      <td>1025</td>\n",
       "      <td>20.0</td>\n",
       "      <td>WN</td>\n",
       "      <td>20</td>\n",
       "      <td>N485WN</td>\n",
       "      <td>EWR</td>\n",
       "      <td>HOU</td>\n",
       "      <td>235.0</td>\n",
       "      <td>1411</td>\n",
       "      <td>7</td>\n",
       "      <td>0</td>\n",
       "      <td>2013-01-02 07:00:00</td>\n",
       "    </tr>\n",
       "    <tr>\n",
       "      <th>...</th>\n",
       "      <td>...</td>\n",
       "      <td>...</td>\n",
       "      <td>...</td>\n",
       "      <td>...</td>\n",
       "      <td>...</td>\n",
       "      <td>...</td>\n",
       "      <td>...</td>\n",
       "      <td>...</td>\n",
       "      <td>...</td>\n",
       "      <td>...</td>\n",
       "      <td>...</td>\n",
       "      <td>...</td>\n",
       "      <td>...</td>\n",
       "      <td>...</td>\n",
       "      <td>...</td>\n",
       "      <td>...</td>\n",
       "      <td>...</td>\n",
       "      <td>...</td>\n",
       "      <td>...</td>\n",
       "      <td>...</td>\n",
       "    </tr>\n",
       "    <tr>\n",
       "      <th>335970</th>\n",
       "      <td>335971</td>\n",
       "      <td>2013</td>\n",
       "      <td>9</td>\n",
       "      <td>30</td>\n",
       "      <td>820.0</td>\n",
       "      <td>820</td>\n",
       "      <td>0.0</td>\n",
       "      <td>1055.0</td>\n",
       "      <td>1110</td>\n",
       "      <td>-15.0</td>\n",
       "      <td>B6</td>\n",
       "      <td>281</td>\n",
       "      <td>N329JB</td>\n",
       "      <td>JFK</td>\n",
       "      <td>HOU</td>\n",
       "      <td>198.0</td>\n",
       "      <td>1428</td>\n",
       "      <td>8</td>\n",
       "      <td>20</td>\n",
       "      <td>2013-09-30 08:00:00</td>\n",
       "    </tr>\n",
       "    <tr>\n",
       "      <th>336213</th>\n",
       "      <td>336214</td>\n",
       "      <td>2013</td>\n",
       "      <td>9</td>\n",
       "      <td>30</td>\n",
       "      <td>1245.0</td>\n",
       "      <td>1245</td>\n",
       "      <td>0.0</td>\n",
       "      <td>1526.0</td>\n",
       "      <td>1540</td>\n",
       "      <td>-14.0</td>\n",
       "      <td>WN</td>\n",
       "      <td>3616</td>\n",
       "      <td>N469WN</td>\n",
       "      <td>EWR</td>\n",
       "      <td>HOU</td>\n",
       "      <td>200.0</td>\n",
       "      <td>1411</td>\n",
       "      <td>12</td>\n",
       "      <td>45</td>\n",
       "      <td>2013-09-30 12:00:00</td>\n",
       "    </tr>\n",
       "    <tr>\n",
       "      <th>336263</th>\n",
       "      <td>336264</td>\n",
       "      <td>2013</td>\n",
       "      <td>9</td>\n",
       "      <td>30</td>\n",
       "      <td>1337.0</td>\n",
       "      <td>1345</td>\n",
       "      <td>-8.0</td>\n",
       "      <td>1635.0</td>\n",
       "      <td>1633</td>\n",
       "      <td>2.0</td>\n",
       "      <td>B6</td>\n",
       "      <td>581</td>\n",
       "      <td>N804JB</td>\n",
       "      <td>JFK</td>\n",
       "      <td>HOU</td>\n",
       "      <td>197.0</td>\n",
       "      <td>1428</td>\n",
       "      <td>13</td>\n",
       "      <td>45</td>\n",
       "      <td>2013-09-30 13:00:00</td>\n",
       "    </tr>\n",
       "    <tr>\n",
       "      <th>336298</th>\n",
       "      <td>336299</td>\n",
       "      <td>2013</td>\n",
       "      <td>9</td>\n",
       "      <td>30</td>\n",
       "      <td>1413.0</td>\n",
       "      <td>1415</td>\n",
       "      <td>-2.0</td>\n",
       "      <td>1655.0</td>\n",
       "      <td>1715</td>\n",
       "      <td>-20.0</td>\n",
       "      <td>WN</td>\n",
       "      <td>1945</td>\n",
       "      <td>N553WN</td>\n",
       "      <td>LGA</td>\n",
       "      <td>HOU</td>\n",
       "      <td>201.0</td>\n",
       "      <td>1428</td>\n",
       "      <td>14</td>\n",
       "      <td>15</td>\n",
       "      <td>2013-09-30 14:00:00</td>\n",
       "    </tr>\n",
       "    <tr>\n",
       "      <th>336527</th>\n",
       "      <td>336528</td>\n",
       "      <td>2013</td>\n",
       "      <td>9</td>\n",
       "      <td>30</td>\n",
       "      <td>1735.0</td>\n",
       "      <td>1715</td>\n",
       "      <td>20.0</td>\n",
       "      <td>2010.0</td>\n",
       "      <td>2005</td>\n",
       "      <td>5.0</td>\n",
       "      <td>WN</td>\n",
       "      <td>2067</td>\n",
       "      <td>N296WN</td>\n",
       "      <td>EWR</td>\n",
       "      <td>HOU</td>\n",
       "      <td>188.0</td>\n",
       "      <td>1411</td>\n",
       "      <td>17</td>\n",
       "      <td>15</td>\n",
       "      <td>2013-09-30 17:00:00</td>\n",
       "    </tr>\n",
       "  </tbody>\n",
       "</table>\n",
       "<p>2115 rows × 20 columns</p>\n",
       "</div>"
      ],
      "text/plain": [
       "        Unnamed: 0  year  month  day  dep_time  sched_dep_time  dep_delay  \\\n",
       "313            314  2013      1    1    1208.0            1158       10.0   \n",
       "357            358  2013      1    1    1306.0            1300        6.0   \n",
       "584            585  2013      1    1    1708.0            1700        8.0   \n",
       "770            771  2013      1    1    2030.0            2035       -5.0   \n",
       "963            964  2013      1    2     734.0             700       34.0   \n",
       "...            ...   ...    ...  ...       ...             ...        ...   \n",
       "335970      335971  2013      9   30     820.0             820        0.0   \n",
       "336213      336214  2013      9   30    1245.0            1245        0.0   \n",
       "336263      336264  2013      9   30    1337.0            1345       -8.0   \n",
       "336298      336299  2013      9   30    1413.0            1415       -2.0   \n",
       "336527      336528  2013      9   30    1735.0            1715       20.0   \n",
       "\n",
       "        arr_time  sched_arr_time  arr_delay carrier  flight tailnum origin  \\\n",
       "313       1540.0            1502       38.0      B6     625  N239JB    JFK   \n",
       "357       1622.0            1610       12.0      WN    2596  N773SA    EWR   \n",
       "584       2037.0            2005       32.0      WN    1066  N778SW    EWR   \n",
       "770       2354.0            2342       12.0      B6     629  N192JB    JFK   \n",
       "963       1045.0            1025       20.0      WN      20  N485WN    EWR   \n",
       "...          ...             ...        ...     ...     ...     ...    ...   \n",
       "335970    1055.0            1110      -15.0      B6     281  N329JB    JFK   \n",
       "336213    1526.0            1540      -14.0      WN    3616  N469WN    EWR   \n",
       "336263    1635.0            1633        2.0      B6     581  N804JB    JFK   \n",
       "336298    1655.0            1715      -20.0      WN    1945  N553WN    LGA   \n",
       "336527    2010.0            2005        5.0      WN    2067  N296WN    EWR   \n",
       "\n",
       "       dest  air_time  distance  hour  minute            time_hour  \n",
       "313     HOU     253.0      1428    11      58  2013-01-01 11:00:00  \n",
       "357     HOU     239.0      1411    13       0  2013-01-01 13:00:00  \n",
       "584     HOU     245.0      1411    17       0  2013-01-01 17:00:00  \n",
       "770     HOU     245.0      1428    20      35  2013-01-01 20:00:00  \n",
       "963     HOU     235.0      1411     7       0  2013-01-02 07:00:00  \n",
       "...     ...       ...       ...   ...     ...                  ...  \n",
       "335970  HOU     198.0      1428     8      20  2013-09-30 08:00:00  \n",
       "336213  HOU     200.0      1411    12      45  2013-09-30 12:00:00  \n",
       "336263  HOU     197.0      1428    13      45  2013-09-30 13:00:00  \n",
       "336298  HOU     201.0      1428    14      15  2013-09-30 14:00:00  \n",
       "336527  HOU     188.0      1411    17      15  2013-09-30 17:00:00  \n",
       "\n",
       "[2115 rows x 20 columns]"
      ]
     },
     "execution_count": 60,
     "metadata": {},
     "output_type": "execute_result"
    }
   ],
   "source": [
    "#b)\n",
    "df_flights[df_flights[\"dest\"]==\"HOU\"]"
   ]
  },
  {
   "cell_type": "code",
   "execution_count": null,
   "metadata": {},
   "outputs": [
    {
     "data": {
      "text/html": [
       "<div>\n",
       "<style scoped>\n",
       "    .dataframe tbody tr th:only-of-type {\n",
       "        vertical-align: middle;\n",
       "    }\n",
       "\n",
       "    .dataframe tbody tr th {\n",
       "        vertical-align: top;\n",
       "    }\n",
       "\n",
       "    .dataframe thead th {\n",
       "        text-align: right;\n",
       "    }\n",
       "</style>\n",
       "<table border=\"1\" class=\"dataframe\">\n",
       "  <thead>\n",
       "    <tr style=\"text-align: right;\">\n",
       "      <th></th>\n",
       "      <th>Unnamed: 0</th>\n",
       "      <th>year</th>\n",
       "      <th>month</th>\n",
       "      <th>day</th>\n",
       "      <th>dep_time</th>\n",
       "      <th>sched_dep_time</th>\n",
       "      <th>dep_delay</th>\n",
       "      <th>arr_time</th>\n",
       "      <th>sched_arr_time</th>\n",
       "      <th>arr_delay</th>\n",
       "      <th>carrier</th>\n",
       "      <th>flight</th>\n",
       "      <th>tailnum</th>\n",
       "      <th>origin</th>\n",
       "      <th>dest</th>\n",
       "      <th>air_time</th>\n",
       "      <th>distance</th>\n",
       "      <th>hour</th>\n",
       "      <th>minute</th>\n",
       "      <th>time_hour</th>\n",
       "    </tr>\n",
       "  </thead>\n",
       "  <tbody>\n",
       "    <tr>\n",
       "      <th>3</th>\n",
       "      <td>4</td>\n",
       "      <td>2013</td>\n",
       "      <td>1</td>\n",
       "      <td>1</td>\n",
       "      <td>544.0</td>\n",
       "      <td>545</td>\n",
       "      <td>-1.0</td>\n",
       "      <td>1004.0</td>\n",
       "      <td>1022</td>\n",
       "      <td>-18.0</td>\n",
       "      <td>B6</td>\n",
       "      <td>725</td>\n",
       "      <td>N804JB</td>\n",
       "      <td>JFK</td>\n",
       "      <td>BQN</td>\n",
       "      <td>183.0</td>\n",
       "      <td>1576</td>\n",
       "      <td>5</td>\n",
       "      <td>45</td>\n",
       "      <td>2013-01-01 05:00:00</td>\n",
       "    </tr>\n",
       "    <tr>\n",
       "      <th>6</th>\n",
       "      <td>7</td>\n",
       "      <td>2013</td>\n",
       "      <td>1</td>\n",
       "      <td>1</td>\n",
       "      <td>555.0</td>\n",
       "      <td>600</td>\n",
       "      <td>-5.0</td>\n",
       "      <td>913.0</td>\n",
       "      <td>854</td>\n",
       "      <td>19.0</td>\n",
       "      <td>B6</td>\n",
       "      <td>507</td>\n",
       "      <td>N516JB</td>\n",
       "      <td>EWR</td>\n",
       "      <td>FLL</td>\n",
       "      <td>158.0</td>\n",
       "      <td>1065</td>\n",
       "      <td>6</td>\n",
       "      <td>0</td>\n",
       "      <td>2013-01-01 06:00:00</td>\n",
       "    </tr>\n",
       "    <tr>\n",
       "      <th>8</th>\n",
       "      <td>9</td>\n",
       "      <td>2013</td>\n",
       "      <td>1</td>\n",
       "      <td>1</td>\n",
       "      <td>557.0</td>\n",
       "      <td>600</td>\n",
       "      <td>-3.0</td>\n",
       "      <td>838.0</td>\n",
       "      <td>846</td>\n",
       "      <td>-8.0</td>\n",
       "      <td>B6</td>\n",
       "      <td>79</td>\n",
       "      <td>N593JB</td>\n",
       "      <td>JFK</td>\n",
       "      <td>MCO</td>\n",
       "      <td>140.0</td>\n",
       "      <td>944</td>\n",
       "      <td>6</td>\n",
       "      <td>0</td>\n",
       "      <td>2013-01-01 06:00:00</td>\n",
       "    </tr>\n",
       "    <tr>\n",
       "      <th>10</th>\n",
       "      <td>11</td>\n",
       "      <td>2013</td>\n",
       "      <td>1</td>\n",
       "      <td>1</td>\n",
       "      <td>558.0</td>\n",
       "      <td>600</td>\n",
       "      <td>-2.0</td>\n",
       "      <td>849.0</td>\n",
       "      <td>851</td>\n",
       "      <td>-2.0</td>\n",
       "      <td>B6</td>\n",
       "      <td>49</td>\n",
       "      <td>N793JB</td>\n",
       "      <td>JFK</td>\n",
       "      <td>PBI</td>\n",
       "      <td>149.0</td>\n",
       "      <td>1028</td>\n",
       "      <td>6</td>\n",
       "      <td>0</td>\n",
       "      <td>2013-01-01 06:00:00</td>\n",
       "    </tr>\n",
       "    <tr>\n",
       "      <th>11</th>\n",
       "      <td>12</td>\n",
       "      <td>2013</td>\n",
       "      <td>1</td>\n",
       "      <td>1</td>\n",
       "      <td>558.0</td>\n",
       "      <td>600</td>\n",
       "      <td>-2.0</td>\n",
       "      <td>853.0</td>\n",
       "      <td>856</td>\n",
       "      <td>-3.0</td>\n",
       "      <td>B6</td>\n",
       "      <td>71</td>\n",
       "      <td>N657JB</td>\n",
       "      <td>JFK</td>\n",
       "      <td>TPA</td>\n",
       "      <td>158.0</td>\n",
       "      <td>1005</td>\n",
       "      <td>6</td>\n",
       "      <td>0</td>\n",
       "      <td>2013-01-01 06:00:00</td>\n",
       "    </tr>\n",
       "    <tr>\n",
       "      <th>...</th>\n",
       "      <td>...</td>\n",
       "      <td>...</td>\n",
       "      <td>...</td>\n",
       "      <td>...</td>\n",
       "      <td>...</td>\n",
       "      <td>...</td>\n",
       "      <td>...</td>\n",
       "      <td>...</td>\n",
       "      <td>...</td>\n",
       "      <td>...</td>\n",
       "      <td>...</td>\n",
       "      <td>...</td>\n",
       "      <td>...</td>\n",
       "      <td>...</td>\n",
       "      <td>...</td>\n",
       "      <td>...</td>\n",
       "      <td>...</td>\n",
       "      <td>...</td>\n",
       "      <td>...</td>\n",
       "      <td>...</td>\n",
       "    </tr>\n",
       "    <tr>\n",
       "      <th>336765</th>\n",
       "      <td>336766</td>\n",
       "      <td>2013</td>\n",
       "      <td>9</td>\n",
       "      <td>30</td>\n",
       "      <td>2240.0</td>\n",
       "      <td>2245</td>\n",
       "      <td>-5.0</td>\n",
       "      <td>2334.0</td>\n",
       "      <td>2351</td>\n",
       "      <td>-17.0</td>\n",
       "      <td>B6</td>\n",
       "      <td>1816</td>\n",
       "      <td>N354JB</td>\n",
       "      <td>JFK</td>\n",
       "      <td>SYR</td>\n",
       "      <td>41.0</td>\n",
       "      <td>209</td>\n",
       "      <td>22</td>\n",
       "      <td>45</td>\n",
       "      <td>2013-09-30 22:00:00</td>\n",
       "    </tr>\n",
       "    <tr>\n",
       "      <th>336766</th>\n",
       "      <td>336767</td>\n",
       "      <td>2013</td>\n",
       "      <td>9</td>\n",
       "      <td>30</td>\n",
       "      <td>2240.0</td>\n",
       "      <td>2250</td>\n",
       "      <td>-10.0</td>\n",
       "      <td>2347.0</td>\n",
       "      <td>7</td>\n",
       "      <td>-20.0</td>\n",
       "      <td>B6</td>\n",
       "      <td>2002</td>\n",
       "      <td>N281JB</td>\n",
       "      <td>JFK</td>\n",
       "      <td>BUF</td>\n",
       "      <td>52.0</td>\n",
       "      <td>301</td>\n",
       "      <td>22</td>\n",
       "      <td>50</td>\n",
       "      <td>2013-09-30 22:00:00</td>\n",
       "    </tr>\n",
       "    <tr>\n",
       "      <th>336767</th>\n",
       "      <td>336768</td>\n",
       "      <td>2013</td>\n",
       "      <td>9</td>\n",
       "      <td>30</td>\n",
       "      <td>2241.0</td>\n",
       "      <td>2246</td>\n",
       "      <td>-5.0</td>\n",
       "      <td>2345.0</td>\n",
       "      <td>1</td>\n",
       "      <td>-16.0</td>\n",
       "      <td>B6</td>\n",
       "      <td>486</td>\n",
       "      <td>N346JB</td>\n",
       "      <td>JFK</td>\n",
       "      <td>ROC</td>\n",
       "      <td>47.0</td>\n",
       "      <td>264</td>\n",
       "      <td>22</td>\n",
       "      <td>46</td>\n",
       "      <td>2013-09-30 22:00:00</td>\n",
       "    </tr>\n",
       "    <tr>\n",
       "      <th>336768</th>\n",
       "      <td>336769</td>\n",
       "      <td>2013</td>\n",
       "      <td>9</td>\n",
       "      <td>30</td>\n",
       "      <td>2307.0</td>\n",
       "      <td>2255</td>\n",
       "      <td>12.0</td>\n",
       "      <td>2359.0</td>\n",
       "      <td>2358</td>\n",
       "      <td>1.0</td>\n",
       "      <td>B6</td>\n",
       "      <td>718</td>\n",
       "      <td>N565JB</td>\n",
       "      <td>JFK</td>\n",
       "      <td>BOS</td>\n",
       "      <td>33.0</td>\n",
       "      <td>187</td>\n",
       "      <td>22</td>\n",
       "      <td>55</td>\n",
       "      <td>2013-09-30 22:00:00</td>\n",
       "    </tr>\n",
       "    <tr>\n",
       "      <th>336769</th>\n",
       "      <td>336770</td>\n",
       "      <td>2013</td>\n",
       "      <td>9</td>\n",
       "      <td>30</td>\n",
       "      <td>2349.0</td>\n",
       "      <td>2359</td>\n",
       "      <td>-10.0</td>\n",
       "      <td>325.0</td>\n",
       "      <td>350</td>\n",
       "      <td>-25.0</td>\n",
       "      <td>B6</td>\n",
       "      <td>745</td>\n",
       "      <td>N516JB</td>\n",
       "      <td>JFK</td>\n",
       "      <td>PSE</td>\n",
       "      <td>196.0</td>\n",
       "      <td>1617</td>\n",
       "      <td>23</td>\n",
       "      <td>59</td>\n",
       "      <td>2013-09-30 23:00:00</td>\n",
       "    </tr>\n",
       "  </tbody>\n",
       "</table>\n",
       "<p>54635 rows × 20 columns</p>\n",
       "</div>"
      ],
      "text/plain": [
       "        Unnamed: 0  year  month  day  dep_time  sched_dep_time  dep_delay  \\\n",
       "3                4  2013      1    1     544.0             545       -1.0   \n",
       "6                7  2013      1    1     555.0             600       -5.0   \n",
       "8                9  2013      1    1     557.0             600       -3.0   \n",
       "10              11  2013      1    1     558.0             600       -2.0   \n",
       "11              12  2013      1    1     558.0             600       -2.0   \n",
       "...            ...   ...    ...  ...       ...             ...        ...   \n",
       "336765      336766  2013      9   30    2240.0            2245       -5.0   \n",
       "336766      336767  2013      9   30    2240.0            2250      -10.0   \n",
       "336767      336768  2013      9   30    2241.0            2246       -5.0   \n",
       "336768      336769  2013      9   30    2307.0            2255       12.0   \n",
       "336769      336770  2013      9   30    2349.0            2359      -10.0   \n",
       "\n",
       "        arr_time  sched_arr_time  arr_delay carrier  flight tailnum origin  \\\n",
       "3         1004.0            1022      -18.0      B6     725  N804JB    JFK   \n",
       "6          913.0             854       19.0      B6     507  N516JB    EWR   \n",
       "8          838.0             846       -8.0      B6      79  N593JB    JFK   \n",
       "10         849.0             851       -2.0      B6      49  N793JB    JFK   \n",
       "11         853.0             856       -3.0      B6      71  N657JB    JFK   \n",
       "...          ...             ...        ...     ...     ...     ...    ...   \n",
       "336765    2334.0            2351      -17.0      B6    1816  N354JB    JFK   \n",
       "336766    2347.0               7      -20.0      B6    2002  N281JB    JFK   \n",
       "336767    2345.0               1      -16.0      B6     486  N346JB    JFK   \n",
       "336768    2359.0            2358        1.0      B6     718  N565JB    JFK   \n",
       "336769     325.0             350      -25.0      B6     745  N516JB    JFK   \n",
       "\n",
       "       dest  air_time  distance  hour  minute            time_hour  \n",
       "3       BQN     183.0      1576     5      45  2013-01-01 05:00:00  \n",
       "6       FLL     158.0      1065     6       0  2013-01-01 06:00:00  \n",
       "8       MCO     140.0       944     6       0  2013-01-01 06:00:00  \n",
       "10      PBI     149.0      1028     6       0  2013-01-01 06:00:00  \n",
       "11      TPA     158.0      1005     6       0  2013-01-01 06:00:00  \n",
       "...     ...       ...       ...   ...     ...                  ...  \n",
       "336765  SYR      41.0       209    22      45  2013-09-30 22:00:00  \n",
       "336766  BUF      52.0       301    22      50  2013-09-30 22:00:00  \n",
       "336767  ROC      47.0       264    22      46  2013-09-30 22:00:00  \n",
       "336768  BOS      33.0       187    22      55  2013-09-30 22:00:00  \n",
       "336769  PSE     196.0      1617    23      59  2013-09-30 23:00:00  \n",
       "\n",
       "[54635 rows x 20 columns]"
      ]
     },
     "execution_count": 64,
     "metadata": {},
     "output_type": "execute_result"
    }
   ],
   "source": [
    "#c) \n",
    "df_flights[df_flights[\"carrier\"]==\"\"]\n"
   ]
  },
  {
   "cell_type": "code",
   "execution_count": null,
   "metadata": {},
   "outputs": [
    {
     "data": {
      "text/html": [
       "<div>\n",
       "<style scoped>\n",
       "    .dataframe tbody tr th:only-of-type {\n",
       "        vertical-align: middle;\n",
       "    }\n",
       "\n",
       "    .dataframe tbody tr th {\n",
       "        vertical-align: top;\n",
       "    }\n",
       "\n",
       "    .dataframe thead th {\n",
       "        text-align: right;\n",
       "    }\n",
       "</style>\n",
       "<table border=\"1\" class=\"dataframe\">\n",
       "  <thead>\n",
       "    <tr style=\"text-align: right;\">\n",
       "      <th></th>\n",
       "      <th>Unnamed: 0</th>\n",
       "      <th>year</th>\n",
       "      <th>month</th>\n",
       "      <th>day</th>\n",
       "      <th>dep_time</th>\n",
       "      <th>sched_dep_time</th>\n",
       "      <th>dep_delay</th>\n",
       "      <th>arr_time</th>\n",
       "      <th>sched_arr_time</th>\n",
       "      <th>arr_delay</th>\n",
       "      <th>carrier</th>\n",
       "      <th>flight</th>\n",
       "      <th>tailnum</th>\n",
       "      <th>origin</th>\n",
       "      <th>dest</th>\n",
       "      <th>air_time</th>\n",
       "      <th>distance</th>\n",
       "      <th>hour</th>\n",
       "      <th>minute</th>\n",
       "      <th>time_hour</th>\n",
       "    </tr>\n",
       "  </thead>\n",
       "  <tbody>\n",
       "    <tr>\n",
       "      <th>0</th>\n",
       "      <td>1</td>\n",
       "      <td>2013</td>\n",
       "      <td>1</td>\n",
       "      <td>1</td>\n",
       "      <td>517.0</td>\n",
       "      <td>515</td>\n",
       "      <td>2.0</td>\n",
       "      <td>830.0</td>\n",
       "      <td>819</td>\n",
       "      <td>11.0</td>\n",
       "      <td>UA</td>\n",
       "      <td>1545</td>\n",
       "      <td>N14228</td>\n",
       "      <td>EWR</td>\n",
       "      <td>IAH</td>\n",
       "      <td>227.0</td>\n",
       "      <td>1400</td>\n",
       "      <td>5</td>\n",
       "      <td>15</td>\n",
       "      <td>2013-01-01 05:00:00</td>\n",
       "    </tr>\n",
       "    <tr>\n",
       "      <th>1</th>\n",
       "      <td>2</td>\n",
       "      <td>2013</td>\n",
       "      <td>1</td>\n",
       "      <td>1</td>\n",
       "      <td>533.0</td>\n",
       "      <td>529</td>\n",
       "      <td>4.0</td>\n",
       "      <td>850.0</td>\n",
       "      <td>830</td>\n",
       "      <td>20.0</td>\n",
       "      <td>UA</td>\n",
       "      <td>1714</td>\n",
       "      <td>N24211</td>\n",
       "      <td>LGA</td>\n",
       "      <td>IAH</td>\n",
       "      <td>227.0</td>\n",
       "      <td>1416</td>\n",
       "      <td>5</td>\n",
       "      <td>29</td>\n",
       "      <td>2013-01-01 05:00:00</td>\n",
       "    </tr>\n",
       "    <tr>\n",
       "      <th>32</th>\n",
       "      <td>33</td>\n",
       "      <td>2013</td>\n",
       "      <td>1</td>\n",
       "      <td>1</td>\n",
       "      <td>623.0</td>\n",
       "      <td>627</td>\n",
       "      <td>-4.0</td>\n",
       "      <td>933.0</td>\n",
       "      <td>932</td>\n",
       "      <td>1.0</td>\n",
       "      <td>UA</td>\n",
       "      <td>496</td>\n",
       "      <td>N459UA</td>\n",
       "      <td>LGA</td>\n",
       "      <td>IAH</td>\n",
       "      <td>229.0</td>\n",
       "      <td>1416</td>\n",
       "      <td>6</td>\n",
       "      <td>27</td>\n",
       "      <td>2013-01-01 06:00:00</td>\n",
       "    </tr>\n",
       "    <tr>\n",
       "      <th>81</th>\n",
       "      <td>82</td>\n",
       "      <td>2013</td>\n",
       "      <td>1</td>\n",
       "      <td>1</td>\n",
       "      <td>728.0</td>\n",
       "      <td>732</td>\n",
       "      <td>-4.0</td>\n",
       "      <td>1041.0</td>\n",
       "      <td>1038</td>\n",
       "      <td>3.0</td>\n",
       "      <td>UA</td>\n",
       "      <td>473</td>\n",
       "      <td>N488UA</td>\n",
       "      <td>LGA</td>\n",
       "      <td>IAH</td>\n",
       "      <td>238.0</td>\n",
       "      <td>1416</td>\n",
       "      <td>7</td>\n",
       "      <td>32</td>\n",
       "      <td>2013-01-01 07:00:00</td>\n",
       "    </tr>\n",
       "    <tr>\n",
       "      <th>89</th>\n",
       "      <td>90</td>\n",
       "      <td>2013</td>\n",
       "      <td>1</td>\n",
       "      <td>1</td>\n",
       "      <td>739.0</td>\n",
       "      <td>739</td>\n",
       "      <td>0.0</td>\n",
       "      <td>1104.0</td>\n",
       "      <td>1038</td>\n",
       "      <td>26.0</td>\n",
       "      <td>UA</td>\n",
       "      <td>1479</td>\n",
       "      <td>N37408</td>\n",
       "      <td>EWR</td>\n",
       "      <td>IAH</td>\n",
       "      <td>249.0</td>\n",
       "      <td>1400</td>\n",
       "      <td>7</td>\n",
       "      <td>39</td>\n",
       "      <td>2013-01-01 07:00:00</td>\n",
       "    </tr>\n",
       "    <tr>\n",
       "      <th>...</th>\n",
       "      <td>...</td>\n",
       "      <td>...</td>\n",
       "      <td>...</td>\n",
       "      <td>...</td>\n",
       "      <td>...</td>\n",
       "      <td>...</td>\n",
       "      <td>...</td>\n",
       "      <td>...</td>\n",
       "      <td>...</td>\n",
       "      <td>...</td>\n",
       "      <td>...</td>\n",
       "      <td>...</td>\n",
       "      <td>...</td>\n",
       "      <td>...</td>\n",
       "      <td>...</td>\n",
       "      <td>...</td>\n",
       "      <td>...</td>\n",
       "      <td>...</td>\n",
       "      <td>...</td>\n",
       "      <td>...</td>\n",
       "    </tr>\n",
       "    <tr>\n",
       "      <th>336487</th>\n",
       "      <td>336488</td>\n",
       "      <td>2013</td>\n",
       "      <td>9</td>\n",
       "      <td>30</td>\n",
       "      <td>1701.0</td>\n",
       "      <td>1704</td>\n",
       "      <td>-3.0</td>\n",
       "      <td>1939.0</td>\n",
       "      <td>1958</td>\n",
       "      <td>-19.0</td>\n",
       "      <td>UA</td>\n",
       "      <td>525</td>\n",
       "      <td>N458UA</td>\n",
       "      <td>LGA</td>\n",
       "      <td>IAH</td>\n",
       "      <td>182.0</td>\n",
       "      <td>1416</td>\n",
       "      <td>17</td>\n",
       "      <td>4</td>\n",
       "      <td>2013-09-30 17:00:00</td>\n",
       "    </tr>\n",
       "    <tr>\n",
       "      <th>336524</th>\n",
       "      <td>336525</td>\n",
       "      <td>2013</td>\n",
       "      <td>9</td>\n",
       "      <td>30</td>\n",
       "      <td>1729.0</td>\n",
       "      <td>1720</td>\n",
       "      <td>9.0</td>\n",
       "      <td>2001.0</td>\n",
       "      <td>2010</td>\n",
       "      <td>-9.0</td>\n",
       "      <td>UA</td>\n",
       "      <td>652</td>\n",
       "      <td>N455UA</td>\n",
       "      <td>EWR</td>\n",
       "      <td>IAH</td>\n",
       "      <td>173.0</td>\n",
       "      <td>1400</td>\n",
       "      <td>17</td>\n",
       "      <td>20</td>\n",
       "      <td>2013-09-30 17:00:00</td>\n",
       "    </tr>\n",
       "    <tr>\n",
       "      <th>336618</th>\n",
       "      <td>336619</td>\n",
       "      <td>2013</td>\n",
       "      <td>9</td>\n",
       "      <td>30</td>\n",
       "      <td>1859.0</td>\n",
       "      <td>1859</td>\n",
       "      <td>0.0</td>\n",
       "      <td>2134.0</td>\n",
       "      <td>2159</td>\n",
       "      <td>-25.0</td>\n",
       "      <td>UA</td>\n",
       "      <td>1128</td>\n",
       "      <td>N14731</td>\n",
       "      <td>LGA</td>\n",
       "      <td>IAH</td>\n",
       "      <td>180.0</td>\n",
       "      <td>1416</td>\n",
       "      <td>18</td>\n",
       "      <td>59</td>\n",
       "      <td>2013-09-30 18:00:00</td>\n",
       "    </tr>\n",
       "    <tr>\n",
       "      <th>336694</th>\n",
       "      <td>336695</td>\n",
       "      <td>2013</td>\n",
       "      <td>9</td>\n",
       "      <td>30</td>\n",
       "      <td>2015.0</td>\n",
       "      <td>2015</td>\n",
       "      <td>0.0</td>\n",
       "      <td>2244.0</td>\n",
       "      <td>2307</td>\n",
       "      <td>-23.0</td>\n",
       "      <td>UA</td>\n",
       "      <td>1545</td>\n",
       "      <td>N17730</td>\n",
       "      <td>EWR</td>\n",
       "      <td>IAH</td>\n",
       "      <td>174.0</td>\n",
       "      <td>1400</td>\n",
       "      <td>20</td>\n",
       "      <td>15</td>\n",
       "      <td>2013-09-30 20:00:00</td>\n",
       "    </tr>\n",
       "    <tr>\n",
       "      <th>336737</th>\n",
       "      <td>336738</td>\n",
       "      <td>2013</td>\n",
       "      <td>9</td>\n",
       "      <td>30</td>\n",
       "      <td>2105.0</td>\n",
       "      <td>2106</td>\n",
       "      <td>-1.0</td>\n",
       "      <td>2329.0</td>\n",
       "      <td>2354</td>\n",
       "      <td>-25.0</td>\n",
       "      <td>UA</td>\n",
       "      <td>475</td>\n",
       "      <td>N477UA</td>\n",
       "      <td>EWR</td>\n",
       "      <td>IAH</td>\n",
       "      <td>175.0</td>\n",
       "      <td>1400</td>\n",
       "      <td>21</td>\n",
       "      <td>6</td>\n",
       "      <td>2013-09-30 21:00:00</td>\n",
       "    </tr>\n",
       "  </tbody>\n",
       "</table>\n",
       "<p>7198 rows × 20 columns</p>\n",
       "</div>"
      ],
      "text/plain": [
       "        Unnamed: 0  year  month  day  dep_time  sched_dep_time  dep_delay  \\\n",
       "0                1  2013      1    1     517.0             515        2.0   \n",
       "1                2  2013      1    1     533.0             529        4.0   \n",
       "32              33  2013      1    1     623.0             627       -4.0   \n",
       "81              82  2013      1    1     728.0             732       -4.0   \n",
       "89              90  2013      1    1     739.0             739        0.0   \n",
       "...            ...   ...    ...  ...       ...             ...        ...   \n",
       "336487      336488  2013      9   30    1701.0            1704       -3.0   \n",
       "336524      336525  2013      9   30    1729.0            1720        9.0   \n",
       "336618      336619  2013      9   30    1859.0            1859        0.0   \n",
       "336694      336695  2013      9   30    2015.0            2015        0.0   \n",
       "336737      336738  2013      9   30    2105.0            2106       -1.0   \n",
       "\n",
       "        arr_time  sched_arr_time  arr_delay carrier  flight tailnum origin  \\\n",
       "0          830.0             819       11.0      UA    1545  N14228    EWR   \n",
       "1          850.0             830       20.0      UA    1714  N24211    LGA   \n",
       "32         933.0             932        1.0      UA     496  N459UA    LGA   \n",
       "81        1041.0            1038        3.0      UA     473  N488UA    LGA   \n",
       "89        1104.0            1038       26.0      UA    1479  N37408    EWR   \n",
       "...          ...             ...        ...     ...     ...     ...    ...   \n",
       "336487    1939.0            1958      -19.0      UA     525  N458UA    LGA   \n",
       "336524    2001.0            2010       -9.0      UA     652  N455UA    EWR   \n",
       "336618    2134.0            2159      -25.0      UA    1128  N14731    LGA   \n",
       "336694    2244.0            2307      -23.0      UA    1545  N17730    EWR   \n",
       "336737    2329.0            2354      -25.0      UA     475  N477UA    EWR   \n",
       "\n",
       "       dest  air_time  distance  hour  minute            time_hour  \n",
       "0       IAH     227.0      1400     5      15  2013-01-01 05:00:00  \n",
       "1       IAH     227.0      1416     5      29  2013-01-01 05:00:00  \n",
       "32      IAH     229.0      1416     6      27  2013-01-01 06:00:00  \n",
       "81      IAH     238.0      1416     7      32  2013-01-01 07:00:00  \n",
       "89      IAH     249.0      1400     7      39  2013-01-01 07:00:00  \n",
       "...     ...       ...       ...   ...     ...                  ...  \n",
       "336487  IAH     182.0      1416    17       4  2013-09-30 17:00:00  \n",
       "336524  IAH     173.0      1400    17      20  2013-09-30 17:00:00  \n",
       "336618  IAH     180.0      1416    18      59  2013-09-30 18:00:00  \n",
       "336694  IAH     174.0      1400    20      15  2013-09-30 20:00:00  \n",
       "336737  IAH     175.0      1400    21       6  2013-09-30 21:00:00  \n",
       "\n",
       "[7198 rows x 20 columns]"
      ]
     },
     "execution_count": 63,
     "metadata": {},
     "output_type": "execute_result"
    }
   ],
   "source": [
    "#b)\n",
    "df_flights[df_flights[\"dest\"]==\"IAH\"]"
   ]
  },
  {
   "cell_type": "markdown",
   "metadata": {},
   "source": [
    "2. ¿Cuántos vuelos tienen un valor faltante en la variable `dep_time`? ¿Qué otras variables tienen valores faltantes? ¿Qué podrían representar estas filas?"
   ]
  },
  {
   "cell_type": "code",
   "execution_count": 6,
   "metadata": {},
   "outputs": [
    {
     "data": {
      "text/plain": [
       "Index(['Unnamed: 0', 'year', 'month', 'day', 'dep_time', 'sched_dep_time',\n",
       "       'dep_delay', 'arr_time', 'sched_arr_time', 'arr_delay', 'carrier',\n",
       "       'flight', 'tailnum', 'origin', 'dest', 'air_time', 'distance', 'hour',\n",
       "       'minute', 'time_hour'],\n",
       "      dtype='object')"
      ]
     },
     "execution_count": 6,
     "metadata": {},
     "output_type": "execute_result"
    }
   ],
   "source": [
    "# Solución\n",
    "df_flights.columns"
   ]
  },
  {
   "cell_type": "code",
   "execution_count": 13,
   "metadata": {},
   "outputs": [
    {
     "name": "stdout",
     "output_type": "stream",
     "text": [
      "        Unnamed: 0   year  month    day  dep_time  sched_dep_time  dep_delay  \\\n",
      "0            False  False  False  False     False           False      False   \n",
      "1            False  False  False  False     False           False      False   \n",
      "2            False  False  False  False     False           False      False   \n",
      "3            False  False  False  False     False           False      False   \n",
      "4            False  False  False  False     False           False      False   \n",
      "...            ...    ...    ...    ...       ...             ...        ...   \n",
      "336771       False  False  False  False      True           False       True   \n",
      "336772       False  False  False  False      True           False       True   \n",
      "336773       False  False  False  False      True           False       True   \n",
      "336774       False  False  False  False      True           False       True   \n",
      "336775       False  False  False  False      True           False       True   \n",
      "\n",
      "        arr_time  sched_arr_time  arr_delay  carrier  flight  tailnum  origin  \\\n",
      "0          False           False      False    False   False    False   False   \n",
      "1          False           False      False    False   False    False   False   \n",
      "2          False           False      False    False   False    False   False   \n",
      "3          False           False      False    False   False    False   False   \n",
      "4          False           False      False    False   False    False   False   \n",
      "...          ...             ...        ...      ...     ...      ...     ...   \n",
      "336771      True           False       True    False   False     True   False   \n",
      "336772      True           False       True    False   False     True   False   \n",
      "336773      True           False       True    False   False    False   False   \n",
      "336774      True           False       True    False   False    False   False   \n",
      "336775      True           False       True    False   False    False   False   \n",
      "\n",
      "         dest  air_time  distance   hour  minute  time_hour  \n",
      "0       False     False     False  False   False      False  \n",
      "1       False     False     False  False   False      False  \n",
      "2       False     False     False  False   False      False  \n",
      "3       False     False     False  False   False      False  \n",
      "4       False     False     False  False   False      False  \n",
      "...       ...       ...       ...    ...     ...        ...  \n",
      "336771  False      True     False  False   False      False  \n",
      "336772  False      True     False  False   False      False  \n",
      "336773  False      True     False  False   False      False  \n",
      "336774  False      True     False  False   False      False  \n",
      "336775  False      True     False  False   False      False  \n",
      "\n",
      "[336776 rows x 20 columns]\n"
     ]
    }
   ],
   "source": [
    "missing_values=df_flights.isnull()\n",
    "print(missing_values)"
   ]
  },
  {
   "cell_type": "code",
   "execution_count": 14,
   "metadata": {},
   "outputs": [
    {
     "name": "stdout",
     "output_type": "stream",
     "text": [
      "Unnamed: 0           0\n",
      "year                 0\n",
      "month                0\n",
      "day                  0\n",
      "dep_time          8255\n",
      "sched_dep_time       0\n",
      "dep_delay         8255\n",
      "arr_time          8713\n",
      "sched_arr_time       0\n",
      "arr_delay         9430\n",
      "carrier              0\n",
      "flight               0\n",
      "tailnum           2512\n",
      "origin               0\n",
      "dest                 0\n",
      "air_time          9430\n",
      "distance             0\n",
      "hour                 0\n",
      "minute               0\n",
      "time_hour            0\n",
      "dtype: int64\n"
     ]
    }
   ],
   "source": [
    "missing_values_count=df_flights.isna().sum()\n",
    "print(missing_values_count)"
   ]
  },
  {
   "cell_type": "code",
   "execution_count": null,
   "metadata": {},
   "outputs": [],
   "source": [
    "# Las filas representan valores faltantes o lo que suele conocerce como missing values que no representan información para el objetivo de análsis."
   ]
  },
  {
   "cell_type": "markdown",
   "metadata": {},
   "source": [
    "3. Ordena los vuelos para encontrar los vuelos con mayor retraso en el tiempo de llegada."
   ]
  },
  {
   "cell_type": "code",
   "execution_count": null,
   "metadata": {},
   "outputs": [
    {
     "name": "stdout",
     "output_type": "stream",
     "text": [
      "        Unnamed: 0  year  month  day  dep_time  sched_dep_time  dep_delay  \\\n",
      "7072          7073  2013      1    9     641.0             900     1301.0   \n",
      "235778      235779  2013      6   15    1432.0            1935     1137.0   \n",
      "8239          8240  2013      1   10    1121.0            1635     1126.0   \n",
      "327043      327044  2013      9   20    1139.0            1845     1014.0   \n",
      "270376      270377  2013      7   22     845.0            1600     1005.0   \n",
      "...            ...   ...    ...  ...       ...             ...        ...   \n",
      "336771      336772  2013      9   30       NaN            1455        NaN   \n",
      "336772      336773  2013      9   30       NaN            2200        NaN   \n",
      "336773      336774  2013      9   30       NaN            1210        NaN   \n",
      "336774      336775  2013      9   30       NaN            1159        NaN   \n",
      "336775      336776  2013      9   30       NaN             840        NaN   \n",
      "\n",
      "        arr_time  sched_arr_time  arr_delay carrier  flight tailnum origin  \\\n",
      "7072      1242.0            1530     1272.0      HA      51  N384HA    JFK   \n",
      "235778    1607.0            2120     1127.0      MQ    3535  N504MQ    JFK   \n",
      "8239      1239.0            1810     1109.0      MQ    3695  N517MQ    EWR   \n",
      "327043    1457.0            2210     1007.0      AA     177  N338AA    JFK   \n",
      "270376    1044.0            1815      989.0      MQ    3075  N665MQ    JFK   \n",
      "...          ...             ...        ...     ...     ...     ...    ...   \n",
      "336771       NaN            1634        NaN      9E    3393     NaN    JFK   \n",
      "336772       NaN            2312        NaN      9E    3525     NaN    LGA   \n",
      "336773       NaN            1330        NaN      MQ    3461  N535MQ    LGA   \n",
      "336774       NaN            1344        NaN      MQ    3572  N511MQ    LGA   \n",
      "336775       NaN            1020        NaN      MQ    3531  N839MQ    LGA   \n",
      "\n",
      "       dest  air_time  distance  hour  minute            time_hour  \n",
      "7072    HNL     640.0      4983     9       0  2013-01-09 09:00:00  \n",
      "235778  CMH      74.0       483    19      35  2013-06-15 19:00:00  \n",
      "8239    ORD     111.0       719    16      35  2013-01-10 16:00:00  \n",
      "327043  SFO     354.0      2586    18      45  2013-09-20 18:00:00  \n",
      "270376  CVG      96.0       589    16       0  2013-07-22 16:00:00  \n",
      "...     ...       ...       ...   ...     ...                  ...  \n",
      "336771  DCA       NaN       213    14      55  2013-09-30 14:00:00  \n",
      "336772  SYR       NaN       198    22       0  2013-09-30 22:00:00  \n",
      "336773  BNA       NaN       764    12      10  2013-09-30 12:00:00  \n",
      "336774  CLE       NaN       419    11      59  2013-09-30 11:00:00  \n",
      "336775  RDU       NaN       431     8      40  2013-09-30 08:00:00  \n",
      "\n",
      "[336776 rows x 20 columns]\n"
     ]
    }
   ],
   "source": [
    "# Solución\n",
    "print(df_flights.sort_values(by=['arr_delay'], ascending=[False]))"
   ]
  },
  {
   "cell_type": "markdown",
   "metadata": {},
   "source": [
    "4. Encuentra los 5 vuelos que salieron más temprano en relación con su hora de salida programada. Muestra únicamente el código del avión (`tail_num`), la fecha y el número de minutos que salieron temprano."
   ]
  },
  {
   "cell_type": "code",
   "execution_count": 62,
   "metadata": {},
   "outputs": [
    {
     "name": "stdout",
     "output_type": "stream",
     "text": [
      "        Unnamed: 0  year  month  day  dep_time  sched_dep_time  dep_delay  \\\n",
      "10452        10453  2013      1   13       1.0            2249       72.0   \n",
      "100800      100801  2013     12   20       1.0            2359        2.0   \n",
      "212954      212955  2013      5   22       1.0            1935      266.0   \n",
      "297030      297031  2013      8   19       1.0            2359        2.0   \n",
      "131559      131560  2013      2   24       1.0            2245       76.0   \n",
      "...            ...   ...    ...  ...       ...             ...        ...   \n",
      "336771      336772  2013      9   30       NaN            1455        NaN   \n",
      "336772      336773  2013      9   30       NaN            2200        NaN   \n",
      "336773      336774  2013      9   30       NaN            1210        NaN   \n",
      "336774      336775  2013      9   30       NaN            1159        NaN   \n",
      "336775      336776  2013      9   30       NaN             840        NaN   \n",
      "\n",
      "        arr_time  sched_arr_time  arr_delay carrier  flight tailnum origin  \\\n",
      "10452      108.0            2357       71.0      B6      22  N206JB    JFK   \n",
      "100800     430.0             440      -10.0      B6    1503  N608JB    JFK   \n",
      "212954     154.0            2140      254.0      EV    4361  N27200    EWR   \n",
      "297030     347.0             350       -3.0      B6     745  N552JB    JFK   \n",
      "131559     121.0            2354       87.0      B6     608  N216JB    JFK   \n",
      "...          ...             ...        ...     ...     ...     ...    ...   \n",
      "336771       NaN            1634        NaN      9E    3393     NaN    JFK   \n",
      "336772       NaN            2312        NaN      9E    3525     NaN    LGA   \n",
      "336773       NaN            1330        NaN      MQ    3461  N535MQ    LGA   \n",
      "336774       NaN            1344        NaN      MQ    3572  N511MQ    LGA   \n",
      "336775       NaN            1020        NaN      MQ    3531  N839MQ    LGA   \n",
      "\n",
      "       dest  air_time  distance  hour  minute            time_hour  \n",
      "10452   SYR      41.0       209    22      49  2013-01-13 22:00:00  \n",
      "100800  SJU     182.0      1598    23      59  2013-12-20 23:00:00  \n",
      "212954  TYS      94.0       631    19      35  2013-05-22 19:00:00  \n",
      "297030  PSE     201.0      1617    23      59  2013-08-19 23:00:00  \n",
      "131559  PWM      56.0       273    22      45  2013-02-24 22:00:00  \n",
      "...     ...       ...       ...   ...     ...                  ...  \n",
      "336771  DCA       NaN       213    14      55  2013-09-30 14:00:00  \n",
      "336772  SYR       NaN       198    22       0  2013-09-30 22:00:00  \n",
      "336773  BNA       NaN       764    12      10  2013-09-30 12:00:00  \n",
      "336774  CLE       NaN       419    11      59  2013-09-30 11:00:00  \n",
      "336775  RDU       NaN       431     8      40  2013-09-30 08:00:00  \n",
      "\n",
      "[336776 rows x 20 columns]\n"
     ]
    }
   ],
   "source": [
    "# Solución\n",
    "# Solución\n",
    "print(df_flights.sort_values(by=['dep_time'], ascending=[True]))"
   ]
  },
  {
   "cell_type": "markdown",
   "metadata": {},
   "source": [
    "5. Actualmente, las variables `dep_time` y `arr_time` son convenientes para observar, pero difíciles de usar para cálculos porque no son números realmente continuos. Conviértelos en el número de minutos desde la medianoche en nuevas variables llamadas `arr_time_min` y `dep_time_min`."
   ]
  },
  {
   "cell_type": "code",
   "execution_count": null,
   "metadata": {},
   "outputs": [],
   "source": [
    "# Solución\n"
   ]
  },
  {
   "cell_type": "markdown",
   "metadata": {},
   "source": [
    "6. Esperamos que `air_time` y la diferencia `arr_time_min` - `dep_time_min` sean iguales, pero no lo son. ¿Por qué no? Identifica un problema importante con los datos y uno más sutil."
   ]
  },
  {
   "cell_type": "code",
   "execution_count": null,
   "metadata": {},
   "outputs": [],
   "source": [
    "# Solución\n"
   ]
  },
  {
   "cell_type": "markdown",
   "metadata": {},
   "source": [
    "7. Encuentra los 5 vuelos con mayor retraso."
   ]
  },
  {
   "cell_type": "code",
   "execution_count": null,
   "metadata": {},
   "outputs": [
    {
     "name": "stdout",
     "output_type": "stream",
     "text": [
      "        Unnamed: 0  year  month  day  dep_time  sched_dep_time  dep_delay  \\\n",
      "7072          7073  2013      1    9     641.0             900     1301.0   \n",
      "235778      235779  2013      6   15    1432.0            1935     1137.0   \n",
      "8239          8240  2013      1   10    1121.0            1635     1126.0   \n",
      "327043      327044  2013      9   20    1139.0            1845     1014.0   \n",
      "270376      270377  2013      7   22     845.0            1600     1005.0   \n",
      "...            ...   ...    ...  ...       ...             ...        ...   \n",
      "336771      336772  2013      9   30       NaN            1455        NaN   \n",
      "336772      336773  2013      9   30       NaN            2200        NaN   \n",
      "336773      336774  2013      9   30       NaN            1210        NaN   \n",
      "336774      336775  2013      9   30       NaN            1159        NaN   \n",
      "336775      336776  2013      9   30       NaN             840        NaN   \n",
      "\n",
      "        arr_time  sched_arr_time  arr_delay carrier  flight tailnum origin  \\\n",
      "7072      1242.0            1530     1272.0      HA      51  N384HA    JFK   \n",
      "235778    1607.0            2120     1127.0      MQ    3535  N504MQ    JFK   \n",
      "8239      1239.0            1810     1109.0      MQ    3695  N517MQ    EWR   \n",
      "327043    1457.0            2210     1007.0      AA     177  N338AA    JFK   \n",
      "270376    1044.0            1815      989.0      MQ    3075  N665MQ    JFK   \n",
      "...          ...             ...        ...     ...     ...     ...    ...   \n",
      "336771       NaN            1634        NaN      9E    3393     NaN    JFK   \n",
      "336772       NaN            2312        NaN      9E    3525     NaN    LGA   \n",
      "336773       NaN            1330        NaN      MQ    3461  N535MQ    LGA   \n",
      "336774       NaN            1344        NaN      MQ    3572  N511MQ    LGA   \n",
      "336775       NaN            1020        NaN      MQ    3531  N839MQ    LGA   \n",
      "\n",
      "       dest  air_time  distance  hour  minute            time_hour  \n",
      "7072    HNL     640.0      4983     9       0  2013-01-09 09:00:00  \n",
      "235778  CMH      74.0       483    19      35  2013-06-15 19:00:00  \n",
      "8239    ORD     111.0       719    16      35  2013-01-10 16:00:00  \n",
      "327043  SFO     354.0      2586    18      45  2013-09-20 18:00:00  \n",
      "270376  CVG      96.0       589    16       0  2013-07-22 16:00:00  \n",
      "...     ...       ...       ...   ...     ...                  ...  \n",
      "336771  DCA       NaN       213    14      55  2013-09-30 14:00:00  \n",
      "336772  SYR       NaN       198    22       0  2013-09-30 22:00:00  \n",
      "336773  BNA       NaN       764    12      10  2013-09-30 12:00:00  \n",
      "336774  CLE       NaN       419    11      59  2013-09-30 11:00:00  \n",
      "336775  RDU       NaN       431     8      40  2013-09-30 08:00:00  \n",
      "\n",
      "[336776 rows x 20 columns]\n"
     ]
    }
   ],
   "source": [
    "# Solución\n",
    "#retraso en el arrivo\n",
    "print(df_flights.sort_values(by=['arr_delay'], ascending=[False]))"
   ]
  },
  {
   "cell_type": "code",
   "execution_count": null,
   "metadata": {},
   "outputs": [
    {
     "name": "stdout",
     "output_type": "stream",
     "text": [
      "        Unnamed: 0  year  month  day  dep_time  sched_dep_time  dep_delay  \\\n",
      "7072          7073  2013      1    9     641.0             900     1301.0   \n",
      "235778      235779  2013      6   15    1432.0            1935     1137.0   \n",
      "8239          8240  2013      1   10    1121.0            1635     1126.0   \n",
      "327043      327044  2013      9   20    1139.0            1845     1014.0   \n",
      "270376      270377  2013      7   22     845.0            1600     1005.0   \n",
      "...            ...   ...    ...  ...       ...             ...        ...   \n",
      "336771      336772  2013      9   30       NaN            1455        NaN   \n",
      "336772      336773  2013      9   30       NaN            2200        NaN   \n",
      "336773      336774  2013      9   30       NaN            1210        NaN   \n",
      "336774      336775  2013      9   30       NaN            1159        NaN   \n",
      "336775      336776  2013      9   30       NaN             840        NaN   \n",
      "\n",
      "        arr_time  sched_arr_time  arr_delay carrier  flight tailnum origin  \\\n",
      "7072      1242.0            1530     1272.0      HA      51  N384HA    JFK   \n",
      "235778    1607.0            2120     1127.0      MQ    3535  N504MQ    JFK   \n",
      "8239      1239.0            1810     1109.0      MQ    3695  N517MQ    EWR   \n",
      "327043    1457.0            2210     1007.0      AA     177  N338AA    JFK   \n",
      "270376    1044.0            1815      989.0      MQ    3075  N665MQ    JFK   \n",
      "...          ...             ...        ...     ...     ...     ...    ...   \n",
      "336771       NaN            1634        NaN      9E    3393     NaN    JFK   \n",
      "336772       NaN            2312        NaN      9E    3525     NaN    LGA   \n",
      "336773       NaN            1330        NaN      MQ    3461  N535MQ    LGA   \n",
      "336774       NaN            1344        NaN      MQ    3572  N511MQ    LGA   \n",
      "336775       NaN            1020        NaN      MQ    3531  N839MQ    LGA   \n",
      "\n",
      "       dest  air_time  distance  hour  minute            time_hour  \n",
      "7072    HNL     640.0      4983     9       0  2013-01-09 09:00:00  \n",
      "235778  CMH      74.0       483    19      35  2013-06-15 19:00:00  \n",
      "8239    ORD     111.0       719    16      35  2013-01-10 16:00:00  \n",
      "327043  SFO     354.0      2586    18      45  2013-09-20 18:00:00  \n",
      "270376  CVG      96.0       589    16       0  2013-07-22 16:00:00  \n",
      "...     ...       ...       ...   ...     ...                  ...  \n",
      "336771  DCA       NaN       213    14      55  2013-09-30 14:00:00  \n",
      "336772  SYR       NaN       198    22       0  2013-09-30 22:00:00  \n",
      "336773  BNA       NaN       764    12      10  2013-09-30 12:00:00  \n",
      "336774  CLE       NaN       419    11      59  2013-09-30 11:00:00  \n",
      "336775  RDU       NaN       431     8      40  2013-09-30 08:00:00  \n",
      "\n",
      "[336776 rows x 20 columns]\n"
     ]
    }
   ],
   "source": [
    "#etraso en la salidad\n",
    "print(df_flights.sort_values(by=['dep_delay'], ascending=[False]))"
   ]
  },
  {
   "cell_type": "markdown",
   "metadata": {},
   "source": [
    "8. Calcula los retrasos promedio por destino para vuelos que se originan en Nueva York (NYC). Crea una variable que clasifique los destinos de peor a mejor, donde 1 representa el peor lugar en el ranking.\n",
    "\n",
    "\n",
    "\n",
    "\n",
    "\n"
   ]
  },
  {
   "cell_type": "code",
   "execution_count": 11,
   "metadata": {},
   "outputs": [
    {
     "data": {
      "text/plain": [
       "origin\n",
       "EWR    15.107954\n",
       "JFK    12.112159\n",
       "LGA    10.346876\n",
       "Name: dep_delay, dtype: float64"
      ]
     },
     "execution_count": 11,
     "metadata": {},
     "output_type": "execute_result"
    }
   ],
   "source": [
    "# Solución\n",
    "#retraso en la salida\n",
    "df_flights.groupby(\"origin\")[\"dep_delay\"].mean()"
   ]
  },
  {
   "cell_type": "code",
   "execution_count": null,
   "metadata": {},
   "outputs": [
    {
     "data": {
      "text/plain": [
       "origin\n",
       "EWR    9.107055\n",
       "JFK    5.551481\n",
       "LGA    5.783488\n",
       "Name: arr_delay, dtype: float64"
      ]
     },
     "execution_count": 12,
     "metadata": {},
     "output_type": "execute_result"
    }
   ],
   "source": [
    "#retraso en lleada\n",
    "df_flights.groupby(\"origin\")[\"arr_delay\"].mean()"
   ]
  },
  {
   "cell_type": "markdown",
   "metadata": {},
   "source": [
    "9. Calcula la demora promedio por aerolínea"
   ]
  },
  {
   "cell_type": "code",
   "execution_count": null,
   "metadata": {},
   "outputs": [
    {
     "data": {
      "text/plain": [
       "np.float64(12.639070257304708)"
      ]
     },
     "execution_count": 7,
     "metadata": {},
     "output_type": "execute_result"
    }
   ],
   "source": [
    "# Solución\n",
    "#retraso en la salida\n",
    "df_flights [\"dep_delay\"].mean()"
   ]
  },
  {
   "cell_type": "code",
   "execution_count": null,
   "metadata": {},
   "outputs": [
    {
     "data": {
      "text/plain": [
       "carrier\n",
       "9E    16.725769\n",
       "AA     8.586016\n",
       "AS     5.804775\n",
       "B6    13.022522\n",
       "DL     9.264505\n",
       "EV    19.955390\n",
       "F9    20.215543\n",
       "FL    18.726075\n",
       "HA     4.900585\n",
       "MQ    10.552041\n",
       "OO    12.586207\n",
       "UA    12.106073\n",
       "US     3.782418\n",
       "VX    12.869421\n",
       "WN    17.711744\n",
       "YV    18.996330\n",
       "Name: dep_delay, dtype: float64"
      ]
     },
     "execution_count": 8,
     "metadata": {},
     "output_type": "execute_result"
    }
   ],
   "source": [
    "#retraso en la salida\n",
    "df_flights.groupby(\"carrier\")[\"dep_delay\"].mean()"
   ]
  },
  {
   "cell_type": "code",
   "execution_count": 13,
   "metadata": {},
   "outputs": [
    {
     "data": {
      "text/plain": [
       "carrier\n",
       "9E     7.379669\n",
       "AA     0.364291\n",
       "AS    -9.930889\n",
       "B6     9.457973\n",
       "DL     1.644341\n",
       "EV    15.796431\n",
       "F9    21.920705\n",
       "FL    20.115906\n",
       "HA    -6.915205\n",
       "MQ    10.774733\n",
       "OO    11.931034\n",
       "UA     3.558011\n",
       "US     2.129595\n",
       "VX     1.764464\n",
       "WN     9.649120\n",
       "YV    15.556985\n",
       "Name: arr_delay, dtype: float64"
      ]
     },
     "execution_count": 13,
     "metadata": {},
     "output_type": "execute_result"
    }
   ],
   "source": [
    "#retraso en la llegada\n",
    "df_flights.groupby(\"carrier\")[\"arr_delay\"].mean()"
   ]
  },
  {
   "cell_type": "markdown",
   "metadata": {},
   "source": [
    "10. El promedio del retraso en la llegada puede no ser la mejor métrica. Enuncie al menos 3 formas adicionales de evaluar las características típicas de los retrasos de un grupo de vuelos."
   ]
  },
  {
   "cell_type": "code",
   "execution_count": null,
   "metadata": {},
   "outputs": [],
   "source": [
    "# Solución\n",
    "#1. La mediana del retraso en la llegada de los vuelos\n",
    "#2. La moda del retraso en la llegada de los vuelos\n",
    "#3. Considerando los percentiles del tiempo del retraso en la llegada de los vuelos."
   ]
  },
  {
   "cell_type": "markdown",
   "metadata": {},
   "source": [
    "## **Pobreza y vulnerabilidad**"
   ]
  },
  {
   "cell_type": "markdown",
   "metadata": {},
   "source": [
    "Siguiendo el ejericio de clase, descargue los módulo Sumaria de la Enaho para los años 2019 y 2023. Para ello, utilice la página de [microdatos del INEI](https://proyectos.inei.gob.pe/microdatos/).\n",
    "\n",
    ">Ojo: debe utilizar la encuesta `ENAHO Metología ACTUALIZADA` del tipo `Condiciones de Vida y Pobreza - ENAHO` y período `Anual - (Ene-Dic)`. Pueden descargar en formato `.csv`, `.sav`, `.dta`. Use el formato con el que sienta más cómodo. Además, recuerde que es clave revisar el diccionario de datos (por ejemplo, `Diccionario2023.pdf`) que encontrará al descargar los archivos"
   ]
  },
  {
   "cell_type": "markdown",
   "metadata": {},
   "source": [
    "1. ¿Cuántos hogares fueron encuestados en 2023? ¿Y en 2019? ¿Cuál es la población estimada para dichos años?\n",
    "\n",
    "> Para validar (parcial o totalmente) su respuesta, revise la diapositiva 2 de la [Presentación del Informe de Pobreza 2023](https://cdn.www.gob.pe/uploads/document/file/6452591/5558432-inei-chief-presentation.pdf)"
   ]
  },
  {
   "cell_type": "code",
   "execution_count": null,
   "metadata": {},
   "outputs": [],
   "source": [
    "# Solución\n",
    "import pandas as pd"
   ]
  },
  {
   "cell_type": "code",
   "execution_count": 88,
   "metadata": {},
   "outputs": [],
   "source": [
    "sumaria=pd.read_csv(\"Sumaria-2019.csv\", encoding='latin1') "
   ]
  },
  {
   "cell_type": "code",
   "execution_count": 87,
   "metadata": {},
   "outputs": [
    {
     "data": {
      "text/plain": [
       "Index(['AÑO', 'MES', 'NCONGLOME', 'CONGLOME', 'VIVIENDA', 'HOGAR', 'UBIGEO',\n",
       "       'DOMINIO', 'ESTRATO', 'PERCEPHO',\n",
       "       ...\n",
       "       'GASHOG26', 'GASHOG25', 'GASHOG2D', 'ESTRSOCIAL', 'LD', 'LINPE',\n",
       "       'LINEA', 'POBREZA', 'FACTOR07', 'Poblacion_total'],\n",
       "      dtype='object', length=159)"
      ]
     },
     "execution_count": 87,
     "metadata": {},
     "output_type": "execute_result"
    }
   ],
   "source": [
    "#Hogares encuestados en el 2023\n",
    "sumaria.columns\n",
    "#Hogares encuestados en el 2019"
   ]
  },
  {
   "cell_type": "code",
   "execution_count": 39,
   "metadata": {},
   "outputs": [
    {
     "data": {
      "text/plain": [
       "(34565, 158)"
      ]
     },
     "execution_count": 39,
     "metadata": {},
     "output_type": "execute_result"
    }
   ],
   "source": [
    "sumaria.shape"
   ]
  },
  {
   "cell_type": "code",
   "execution_count": 41,
   "metadata": {},
   "outputs": [],
   "source": [
    "sumaria1=pd.read_csv(\"Sumaria-2023.csv\", encoding='latin1') "
   ]
  },
  {
   "cell_type": "code",
   "execution_count": 42,
   "metadata": {},
   "outputs": [
    {
     "data": {
      "text/plain": [
       "(33886, 163)"
      ]
     },
     "execution_count": 42,
     "metadata": {},
     "output_type": "execute_result"
    }
   ],
   "source": [
    "sumaria1.shape"
   ]
  },
  {
   "cell_type": "markdown",
   "metadata": {},
   "source": [
    "2. ¿Cuántos pobres (extremos y no extremos) se alcanzaron en 2019 y en 2023? ¿En cuánto se incrementó la pobreza en términos absolutos y relativos?\n",
    "\n",
    "\n",
    "> Para validar (parcial o totalmente) su respuesta, revise la diapositiva 12 de la [Presentación del Informe de Pobreza 2023](https://cdn.www.gob.pe/uploads/document/file/6452591/5558432-inei-chief-presentation.pdf)"
   ]
  },
  {
   "cell_type": "code",
   "execution_count": 45,
   "metadata": {},
   "outputs": [
    {
     "data": {
      "text/plain": [
       "POBREZA\n",
       "3    82.803414\n",
       "2    14.508896\n",
       "1     2.687690\n",
       "Name: proportion, dtype: float64"
      ]
     },
     "execution_count": 45,
     "metadata": {},
     "output_type": "execute_result"
    }
   ],
   "source": [
    "# Solución\n",
    "sumaria.POBREZA.value_counts(normalize=True)*100"
   ]
  },
  {
   "cell_type": "code",
   "execution_count": 49,
   "metadata": {},
   "outputs": [
    {
     "data": {
      "text/plain": [
       "POBREZA\n",
       "3    28621\n",
       "2     5015\n",
       "1      929\n",
       "Name: count, dtype: int64"
      ]
     },
     "execution_count": 49,
     "metadata": {},
     "output_type": "execute_result"
    }
   ],
   "source": [
    "sumaria.POBREZA.value_counts()"
   ]
  },
  {
   "cell_type": "code",
   "execution_count": 46,
   "metadata": {},
   "outputs": [
    {
     "data": {
      "text/plain": [
       "POBREZA\n",
       "3    78.448327\n",
       "2    16.405005\n",
       "1     5.146668\n",
       "Name: proportion, dtype: float64"
      ]
     },
     "execution_count": 46,
     "metadata": {},
     "output_type": "execute_result"
    }
   ],
   "source": [
    "sumaria1.POBREZA.value_counts(normalize=True)*100"
   ]
  },
  {
   "cell_type": "code",
   "execution_count": 50,
   "metadata": {},
   "outputs": [
    {
     "data": {
      "text/plain": [
       "POBREZA\n",
       "3    28621\n",
       "2     5015\n",
       "1      929\n",
       "Name: count, dtype: int64"
      ]
     },
     "execution_count": 50,
     "metadata": {},
     "output_type": "execute_result"
    }
   ],
   "source": [
    "sumaria.POBREZA.value_counts()"
   ]
  },
  {
   "cell_type": "markdown",
   "metadata": {},
   "source": [
    "3. ¿Cuántos pobres extremos se alcanzaron en 2019 y en 2023? ¿En cuánto se incrementó la pobreza exterma en términos absolutos y relativos?\n",
    "\n",
    "\n",
    "> Para validar (parcial o totalmente) su respuesta, revise la diapositiva 15 de la [Presentación del Informe de Pobreza 2023](https://cdn.www.gob.pe/uploads/document/file/6452591/5558432-inei-chief-presentation.pdf)"
   ]
  },
  {
   "cell_type": "code",
   "execution_count": 83,
   "metadata": {},
   "outputs": [
    {
     "data": {
      "text/plain": [
       "AÑO                929\n",
       "MES                929\n",
       "NCONGLOME          929\n",
       "CONGLOME           929\n",
       "VIVIENDA           929\n",
       "                  ... \n",
       "LINPE              929\n",
       "LINEA              929\n",
       "POBREZA            929\n",
       "FACTOR07           929\n",
       "Poblacion_total    929\n",
       "Length: 159, dtype: int64"
      ]
     },
     "execution_count": 83,
     "metadata": {},
     "output_type": "execute_result"
    }
   ],
   "source": [
    "# Solución\n",
    "sumaria[sumaria[\"POBREZA\"]==1].count()"
   ]
  },
  {
   "cell_type": "code",
   "execution_count": 84,
   "metadata": {},
   "outputs": [
    {
     "data": {
      "text/plain": [
       "AÑO             1744\n",
       "MES             1744\n",
       "CONGLOME        1744\n",
       "VIVIENDA        1744\n",
       "HOGAR           1744\n",
       "                ... \n",
       "LINEAV          1744\n",
       "POBREZAV        1744\n",
       "FACTOR07        1744\n",
       "NCONGLOME       1744\n",
       "SUB_CONGLOME    1744\n",
       "Length: 163, dtype: int64"
      ]
     },
     "execution_count": 84,
     "metadata": {},
     "output_type": "execute_result"
    }
   ],
   "source": [
    "sumaria1[sumaria1[\"POBREZA\"]==1].count()"
   ]
  },
  {
   "cell_type": "code",
   "execution_count": null,
   "metadata": {},
   "outputs": [],
   "source": [
    "#La pobreza se incremento en 815 en terminos absolutos y 188% en terminos relativos"
   ]
  },
  {
   "cell_type": "markdown",
   "metadata": {},
   "source": [
    "4. ¿Cuál es el tamaño de la población bajo vulnerabilidad 2023 en términos relativos? ¿Y en 2019? ¿Se incrementó,mantuvo o redujo?\n",
    "\n",
    "\n",
    "> Para validar (parcial o totalmente) su respuesta, revise la diapositiva 8 de la [Presentación del Informe de Pobreza 2023](https://cdn.www.gob.pe/uploads/document/file/6452591/5558432-inei-chief-presentation.pdf)"
   ]
  },
  {
   "cell_type": "code",
   "execution_count": 96,
   "metadata": {},
   "outputs": [],
   "source": [
    "# Solución\n",
    "sumaria[\"Poblacion_total\"]=sumaria[\"MIEPERHO\"]*sumaria[\"FACTOR07\"]"
   ]
  },
  {
   "cell_type": "code",
   "execution_count": 101,
   "metadata": {},
   "outputs": [],
   "source": [
    "pob_total=sumaria[\"Poblacion_total\"].sum()"
   ]
  },
  {
   "cell_type": "code",
   "execution_count": 99,
   "metadata": {},
   "outputs": [
    {
     "data": {
      "text/plain": [
       "POBREZA\n",
       "1    9.328773e+05\n",
       "2    5.665618e+06\n",
       "3    2.607803e+07\n",
       "Name: Poblacion_total, dtype: float64"
      ]
     },
     "execution_count": 99,
     "metadata": {},
     "output_type": "execute_result"
    }
   ],
   "source": [
    "sumaria.groupby(\"POBREZA\")[\"Poblacion_total\"]. sum()"
   ]
  },
  {
   "cell_type": "code",
   "execution_count": 102,
   "metadata": {},
   "outputs": [
    {
     "data": {
      "text/plain": [
       "POBREZA\n",
       "1     2.854885\n",
       "2    17.338495\n",
       "3    79.806620\n",
       "Name: Poblacion_total, dtype: float64"
      ]
     },
     "execution_count": 102,
     "metadata": {},
     "output_type": "execute_result"
    }
   ],
   "source": [
    "\n",
    "sumaria.groupby(\"POBREZA\")[\"Poblacion_total\"]. sum()/pob_total*100"
   ]
  },
  {
   "cell_type": "code",
   "execution_count": 103,
   "metadata": {},
   "outputs": [
    {
     "data": {
      "text/plain": [
       "20.19338"
      ]
     },
     "execution_count": 103,
     "metadata": {},
     "output_type": "execute_result"
    }
   ],
   "source": [
    "2.854885+17.338495"
   ]
  },
  {
   "cell_type": "code",
   "execution_count": 109,
   "metadata": {},
   "outputs": [],
   "source": [
    "sumaria1[\"Poblacion_total\"]=sumaria1[\"MIEPERHO\"]*sumaria1[\"FACTOR07\"]"
   ]
  },
  {
   "cell_type": "code",
   "execution_count": 110,
   "metadata": {},
   "outputs": [],
   "source": [
    "pob_total=sumaria1[\"Poblacion_total\"].sum()"
   ]
  },
  {
   "cell_type": "code",
   "execution_count": 111,
   "metadata": {},
   "outputs": [
    {
     "data": {
      "text/plain": [
       "POBREZA\n",
       "1    1.960234e+06\n",
       "2    7.946474e+06\n",
       "3    2.420034e+07\n",
       "Name: Poblacion_total, dtype: float64"
      ]
     },
     "execution_count": 111,
     "metadata": {},
     "output_type": "execute_result"
    }
   ],
   "source": [
    "sumaria1.groupby(\"POBREZA\")[\"Poblacion_total\"]. sum()"
   ]
  },
  {
   "cell_type": "code",
   "execution_count": 112,
   "metadata": {},
   "outputs": [
    {
     "data": {
      "text/plain": [
       "POBREZA\n",
       "1     5.747300\n",
       "2    23.298628\n",
       "3    70.954072\n",
       "Name: Poblacion_total, dtype: float64"
      ]
     },
     "execution_count": 112,
     "metadata": {},
     "output_type": "execute_result"
    }
   ],
   "source": [
    "sumaria1.groupby(\"POBREZA\")[\"Poblacion_total\"]. sum()/pob_total*100"
   ]
  },
  {
   "cell_type": "code",
   "execution_count": 113,
   "metadata": {},
   "outputs": [
    {
     "data": {
      "text/plain": [
       "29.045928"
      ]
     },
     "execution_count": 113,
     "metadata": {},
     "output_type": "execute_result"
    }
   ],
   "source": [
    "5.747300+23.298628"
   ]
  },
  {
   "cell_type": "code",
   "execution_count": null,
   "metadata": {},
   "outputs": [
    {
     "data": {
      "text/plain": [
       "8.852547999999999"
      ]
     },
     "execution_count": 114,
     "metadata": {},
     "output_type": "execute_result"
    }
   ],
   "source": [
    "#Se incremento en 8.8 % en el 2023 comparado con el 2019\n",
    "29.045928-20.19338"
   ]
  },
  {
   "cell_type": "markdown",
   "metadata": {},
   "source": [
    "5. Opcional 1: ¿Cuál es el tamaño de la pobreza (extrema y no extrema) en Lima Metropolitana en 2023? Calcule en términos absolutos y relativos. ¿Cómo cambian sus cifras versus los datos de 2019?\n",
    "\n",
    "> Para validar (parcial o totalmente) su respuesta, revise la diapositiva 14 de la [Presentación del Informe de Pobreza 2023](https://cdn.www.gob.pe/uploads/document/file/6452591/5558432-inei-chief-presentation.pdf)"
   ]
  },
  {
   "cell_type": "code",
   "execution_count": 71,
   "metadata": {},
   "outputs": [
    {
     "data": {
      "text/plain": [
       "POBREZA\n",
       "3    78.448327\n",
       "2    16.405005\n",
       "1     5.146668\n",
       "Name: proportion, dtype: float64"
      ]
     },
     "execution_count": 71,
     "metadata": {},
     "output_type": "execute_result"
    }
   ],
   "source": [
    "# Solución\n",
    "sumaria1.POBREZA.value_counts(normalize=True)*100"
   ]
  },
  {
   "cell_type": "code",
   "execution_count": 72,
   "metadata": {},
   "outputs": [
    {
     "data": {
      "text/plain": [
       "21.551673"
      ]
     },
     "execution_count": 72,
     "metadata": {},
     "output_type": "execute_result"
    }
   ],
   "source": [
    "16.405005+5.146668"
   ]
  },
  {
   "cell_type": "code",
   "execution_count": 80,
   "metadata": {},
   "outputs": [],
   "source": [
    "sumaria[\"Poblacion_total\"]=sumaria[\"MIEPERHO\"]*sumaria[\"FACTOR07\"]"
   ]
  },
  {
   "cell_type": "code",
   "execution_count": 82,
   "metadata": {},
   "outputs": [
    {
     "data": {
      "text/plain": [
       "np.float64(32676529.585711725)"
      ]
     },
     "execution_count": 82,
     "metadata": {},
     "output_type": "execute_result"
    }
   ],
   "source": [
    "sumaria[\"Poblacion_total\"].sum()"
   ]
  },
  {
   "cell_type": "markdown",
   "metadata": {},
   "source": [
    "6. Opcional 2: A partir de la pregunta previa, revise sus cálculos por regiones. ¿Dónde subió/bajó más la pobreza?\n",
    "\n",
    "> Para validar (parcial o totalmente) su respuesta, revise la diapositiva 14 de la [Presentación del Informe de Pobreza 2023](https://cdn.www.gob.pe/uploads/document/file/6452591/5558432-inei-chief-presentation.pdf)"
   ]
  },
  {
   "cell_type": "code",
   "execution_count": null,
   "metadata": {},
   "outputs": [],
   "source": [
    "# Solución"
   ]
  }
 ],
 "metadata": {
  "hide_input": false,
  "kernelspec": {
   "display_name": "Otree5",
   "language": "python",
   "name": "python3"
  },
  "language_info": {
   "codemirror_mode": {
    "name": "ipython",
    "version": 3
   },
   "file_extension": ".py",
   "mimetype": "text/x-python",
   "name": "python",
   "nbconvert_exporter": "python",
   "pygments_lexer": "ipython3",
   "version": "3.9.16"
  },
  "toc": {
   "base_numbering": 1,
   "nav_menu": {},
   "number_sections": true,
   "sideBar": true,
   "skip_h1_title": false,
   "title_cell": "Table of Contents",
   "title_sidebar": "Contents",
   "toc_cell": false,
   "toc_position": {},
   "toc_section_display": true,
   "toc_window_display": false
  }
 },
 "nbformat": 4,
 "nbformat_minor": 4
}
